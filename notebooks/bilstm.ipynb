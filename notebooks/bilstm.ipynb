{
 "cells": [
  {
   "cell_type": "code",
   "execution_count": 46,
   "metadata": {},
   "outputs": [],
   "source": [
    "import torch\n",
    "import torch.nn as nn\n",
    "from torch.utils.data import DataLoader, TensorDataset\n",
    "from sklearn.model_selection import train_test_split\n",
    "import pandas as pd\n",
    "from collections import Counter\n",
    "from nltk.tokenize import word_tokenize"
   ]
  },
  {
   "cell_type": "code",
   "execution_count": 47,
   "metadata": {},
   "outputs": [],
   "source": [
    "train_df = pd.read_csv(\"../data/cleaned_data/cleaned_data_train.csv\")\n",
    "dev_df = pd.read_csv(\"../data/cleaned_data/cleaned_data_dev.csv\")\n",
    "test_df = pd.read_csv(\"../data/cleaned_data/cleaned_data_test.csv\")"
   ]
  },
  {
   "cell_type": "code",
   "execution_count": 48,
   "metadata": {},
   "outputs": [],
   "source": [
    "df = pd.concat([train_df, dev_df, test_df])"
   ]
  },
  {
   "cell_type": "code",
   "execution_count": 49,
   "metadata": {},
   "outputs": [],
   "source": [
    "def group_sentence(data):\n",
    "    # Group tokens and labels by sentences\n",
    "    sentences = []\n",
    "    labels = []\n",
    "    sentence_tokens = []\n",
    "    sentence_labels = []\n",
    "\n",
    "    for _, row in data.iterrows():\n",
    "        token = row['token']\n",
    "        label = row['label']\n",
    "        \n",
    "        if token == '.':  # End of a sentence\n",
    "            sentences.append(sentence_tokens)\n",
    "            labels.append(sentence_labels)\n",
    "            sentence_tokens = []\n",
    "            sentence_labels = []\n",
    "        else:\n",
    "            sentence_tokens.append(token)\n",
    "            sentence_labels.append(label)\n",
    "\n",
    "    # Add the last sentence if any\n",
    "    if sentence_tokens:\n",
    "        sentences.append(sentence_tokens)\n",
    "        labels.append(sentence_labels)\n",
    "\n",
    "    return sentences, labels\n"
   ]
  },
  {
   "cell_type": "code",
   "execution_count": 50,
   "metadata": {},
   "outputs": [],
   "source": [
    "\n",
    "# Encode tokens and labels\n",
    "def encode_data(sentences, labels, token2idx, label2idx, max_len):\n",
    "    encoded_tokens = []\n",
    "    encoded_labels = []\n",
    "\n",
    "    for sentence, label_seq in zip(sentences, labels):\n",
    "        token_ids = [token2idx.get(token, token2idx[\"<UNK>\"]) for token in sentence]\n",
    "        label_ids = [label2idx[label] for label in label_seq]\n",
    "        \n",
    "        # Padding\n",
    "        token_ids = token_ids[:max_len] + [token2idx[\"<PAD>\"]] * (max_len - len(token_ids))\n",
    "        label_ids = label_ids[:max_len] + [label2idx[\"<PAD>\"]] * (max_len - len(label_ids))\n",
    "        \n",
    "        encoded_tokens.append(token_ids)\n",
    "        encoded_labels.append(label_ids)\n",
    "\n",
    "    return torch.tensor(encoded_tokens, dtype=torch.long), torch.tensor(encoded_labels, dtype=torch.long)"
   ]
  },
  {
   "cell_type": "code",
   "execution_count": 51,
   "metadata": {},
   "outputs": [],
   "source": [
    "# BiLSTM Model\n",
    "class BiLSTM_NER(nn.Module):\n",
    "    def __init__(self, vocab_size, embedding_dim, hidden_dim, output_dim, pad_idx):\n",
    "        super(BiLSTM_NER, self).__init__()\n",
    "        self.embedding = nn.Embedding(vocab_size, embedding_dim, padding_idx=pad_idx)\n",
    "        self.lstm = nn.LSTM(embedding_dim, hidden_dim, bidirectional=True, batch_first=True)\n",
    "        self.fc = nn.Linear(hidden_dim * 2, output_dim)\n",
    "    \n",
    "    def forward(self, x):\n",
    "        embedded = self.embedding(x)\n",
    "        lstm_out, _ = self.lstm(embedded)\n",
    "        output = self.fc(lstm_out)\n",
    "        return output"
   ]
  },
  {
   "cell_type": "code",
   "execution_count": 53,
   "metadata": {},
   "outputs": [],
   "source": [
    "sentences, labels = group_sentence(df)"
   ]
  },
  {
   "cell_type": "code",
   "execution_count": 54,
   "metadata": {},
   "outputs": [
    {
     "data": {
      "text/plain": [
       "(['In',\n",
       "  'this',\n",
       "  'article',\n",
       "  'we',\n",
       "  'discuss',\n",
       "  'several',\n",
       "  'metrics',\n",
       "  'of',\n",
       "  'coherence',\n",
       "  'defined',\n",
       "  'using',\n",
       "  'centering',\n",
       "  'theory',\n",
       "  'and',\n",
       "  'investigate',\n",
       "  'the',\n",
       "  'usefulness',\n",
       "  'of',\n",
       "  'such',\n",
       "  'metrics',\n",
       "  'for',\n",
       "  'information',\n",
       "  'ordering',\n",
       "  'in',\n",
       "  'automatic',\n",
       "  'text',\n",
       "  'generation'],\n",
       " ['O',\n",
       "  'O',\n",
       "  'O',\n",
       "  'O',\n",
       "  'O',\n",
       "  'O',\n",
       "  'B',\n",
       "  'I',\n",
       "  'I',\n",
       "  'O',\n",
       "  'O',\n",
       "  'B',\n",
       "  'I',\n",
       "  'O',\n",
       "  'O',\n",
       "  'O',\n",
       "  'O',\n",
       "  'O',\n",
       "  'O',\n",
       "  'B',\n",
       "  'O',\n",
       "  'O',\n",
       "  'O',\n",
       "  'O',\n",
       "  'B',\n",
       "  'I',\n",
       "  'I'])"
      ]
     },
     "execution_count": 54,
     "metadata": {},
     "output_type": "execute_result"
    }
   ],
   "source": [
    "sentences[0], labels[0]"
   ]
  },
  {
   "cell_type": "code",
   "execution_count": 55,
   "metadata": {},
   "outputs": [],
   "source": [
    "# Create vocabularies\n",
    "unique_tokens = set(token for sentence in sentences for token in sentence)\n",
    "unique_labels = set(label for label_seq in labels for label in label_seq)"
   ]
  },
  {
   "cell_type": "code",
   "execution_count": 56,
   "metadata": {},
   "outputs": [],
   "source": [
    "token2idx = {token: idx for idx, token in enumerate(unique_tokens, start=2)}\n",
    "token2idx[\"<PAD>\"] = 0\n",
    "token2idx[\"<UNK>\"] = 1"
   ]
  },
  {
   "cell_type": "code",
   "execution_count": 57,
   "metadata": {},
   "outputs": [],
   "source": [
    "label2idx = {label: idx for idx, label in enumerate(unique_labels, start=1)}\n",
    "label2idx[\"<PAD>\"] = 0\n",
    "\n",
    "idx2label = {idx: label for label, idx in label2idx.items()}"
   ]
  },
  {
   "cell_type": "code",
   "execution_count": 108,
   "metadata": {},
   "outputs": [],
   "source": [
    "# Hyperparameters\n",
    "embedding_dim = 100\n",
    "hidden_dim = 128\n",
    "max_len = 50\n",
    "batch_size = 32\n",
    "epochs = 20\n",
    "learning_rate = 0.001"
   ]
  },
  {
   "cell_type": "code",
   "execution_count": 109,
   "metadata": {},
   "outputs": [],
   "source": [
    "\n",
    "# Encode the data\n",
    "X, y = encode_data(sentences, labels, token2idx, label2idx, max_len)"
   ]
  },
  {
   "cell_type": "code",
   "execution_count": 110,
   "metadata": {},
   "outputs": [],
   "source": [
    "# Split into train and test sets\n",
    "X_train, X_test, y_train, y_test = train_test_split(X, y, test_size=0.2, random_state=42)"
   ]
  },
  {
   "cell_type": "code",
   "execution_count": 111,
   "metadata": {},
   "outputs": [],
   "source": [
    "# Create DataLoaders\n",
    "train_loader = DataLoader(TensorDataset(X_train, y_train), batch_size=batch_size, shuffle=True)\n",
    "test_loader = DataLoader(TensorDataset(X_test, y_test), batch_size=batch_size)"
   ]
  },
  {
   "cell_type": "code",
   "execution_count": 113,
   "metadata": {},
   "outputs": [],
   "source": [
    "# Model, loss, optimizer\n",
    "model = BiLSTM_NER(len(token2idx), embedding_dim, hidden_dim, len(label2idx), token2idx[\"<PAD>\"])\n",
    "criterion = nn.CrossEntropyLoss(ignore_index=label2idx[\"<PAD>\"])\n",
    "optimizer = torch.optim.Adam(model.parameters(), lr=learning_rate)"
   ]
  },
  {
   "cell_type": "code",
   "execution_count": 114,
   "metadata": {},
   "outputs": [
    {
     "name": "stdout",
     "output_type": "stream",
     "text": [
      "Epoch 1/20, Loss: 39.5723\n",
      "Epoch 2/20, Loss: 25.1706\n",
      "Epoch 3/20, Loss: 19.5579\n",
      "Epoch 4/20, Loss: 15.6289\n",
      "Epoch 5/20, Loss: 12.4895\n",
      "Epoch 6/20, Loss: 9.7788\n",
      "Epoch 7/20, Loss: 7.1782\n",
      "Epoch 8/20, Loss: 5.1066\n",
      "Epoch 9/20, Loss: 3.5174\n",
      "Epoch 10/20, Loss: 2.3094\n",
      "Epoch 11/20, Loss: 1.5318\n",
      "Epoch 12/20, Loss: 1.0692\n",
      "Epoch 13/20, Loss: 0.7746\n",
      "Epoch 14/20, Loss: 0.5880\n",
      "Epoch 15/20, Loss: 0.4205\n",
      "Epoch 16/20, Loss: 0.3303\n",
      "Epoch 17/20, Loss: 0.2375\n",
      "Epoch 18/20, Loss: 0.1922\n",
      "Epoch 19/20, Loss: 0.1854\n",
      "Epoch 20/20, Loss: 0.1530\n"
     ]
    }
   ],
   "source": [
    "# Training loop\n",
    "for epoch in range(epochs):\n",
    "    model.train()\n",
    "    total_loss = 0\n",
    "\n",
    "    for X_batch, y_batch in train_loader:\n",
    "        optimizer.zero_grad()\n",
    "        outputs = model(X_batch)\n",
    "        \n",
    "        # Reshape for loss\n",
    "        outputs = outputs.view(-1, len(label2idx))\n",
    "        y_batch = y_batch.view(-1)\n",
    "        \n",
    "        loss = criterion(outputs, y_batch)\n",
    "        loss.backward()\n",
    "        optimizer.step()\n",
    "        \n",
    "        total_loss += loss.item()\n",
    "\n",
    "    print(f\"Epoch {epoch+1}/{epochs}, Loss: {total_loss:.4f}\")"
   ]
  },
  {
   "cell_type": "code",
   "execution_count": 115,
   "metadata": {},
   "outputs": [],
   "source": [
    "# Evaluation\n",
    "def evaluate_model(model, dataloader):\n",
    "    model.eval()\n",
    "    correct, total = 0, 0\n",
    "\n",
    "    with torch.no_grad():\n",
    "        for X_batch, y_batch in dataloader:\n",
    "            outputs = model(X_batch)\n",
    "            predictions = outputs.argmax(dim=2)\n",
    "            \n",
    "            # Ignore PAD tokens\n",
    "            mask = (y_batch != label2idx[\"<PAD>\"]).view(-1)\n",
    "            correct += (predictions.view(-1)[mask] == y_batch.view(-1)[mask]).sum().item()\n",
    "            total += mask.sum().item()\n",
    "\n",
    "    accuracy = correct / total\n",
    "    print(f\"Accuracy: {accuracy:.4f}\")"
   ]
  },
  {
   "cell_type": "code",
   "execution_count": 116,
   "metadata": {},
   "outputs": [
    {
     "name": "stdout",
     "output_type": "stream",
     "text": [
      "Accuracy: 0.9499\n"
     ]
    }
   ],
   "source": [
    "evaluate_model(model, test_loader)"
   ]
  },
  {
   "cell_type": "code",
   "execution_count": 127,
   "metadata": {},
   "outputs": [
    {
     "name": "stdout",
     "output_type": "stream",
     "text": [
      "Model saved to ../models/trained_models/bilstm_ner_model.pth\n"
     ]
    }
   ],
   "source": [
    "# Saving the model's state dictionary\n",
    "def save_model(model, filepath):\n",
    "    torch.save(model.state_dict(), filepath)\n",
    "    print(f\"Model saved to {filepath}\")\n",
    "\n",
    "# Example usage\n",
    "save_model(model, \"../models/trained_models/bilstm_ner_model.pth\")"
   ]
  },
  {
   "cell_type": "code",
   "execution_count": 77,
   "metadata": {},
   "outputs": [],
   "source": [
    "from sklearn.metrics import classification_report, confusion_matrix\n",
    "import seaborn as sns\n",
    "import matplotlib.pyplot as plt"
   ]
  },
  {
   "cell_type": "code",
   "execution_count": 117,
   "metadata": {},
   "outputs": [],
   "source": [
    "# Function to evaluate the model and collect predictions and true labels\n",
    "def evaluate_model_with_metrics(model, dataloader, idx2label, label2idx):\n",
    "    model.eval()\n",
    "    all_predictions = []\n",
    "    all_true_labels = []\n",
    "\n",
    "    with torch.no_grad():\n",
    "        for X_batch, y_batch in dataloader:\n",
    "            outputs = model(X_batch)\n",
    "            predictions = outputs.argmax(dim=2)\n",
    "\n",
    "            for pred, true in zip(predictions, y_batch):\n",
    "                # Flatten and filter out PAD tokens\n",
    "                pred = pred.view(-1)\n",
    "                true = true.view(-1)\n",
    "                \n",
    "                mask = true != label2idx[\"<PAD>\"]\n",
    "                all_predictions.extend(pred[mask].cpu().numpy())\n",
    "                all_true_labels.extend(true[mask].cpu().numpy())\n",
    "    \n",
    "    return all_predictions, all_true_labels"
   ]
  },
  {
   "cell_type": "code",
   "execution_count": 118,
   "metadata": {},
   "outputs": [],
   "source": [
    "# Get predictions and true labels\n",
    "predictions, true_labels = evaluate_model_with_metrics(model, test_loader, idx2label, label2idx)\n",
    "\n",
    "# Filter out <PAD> from the labels\n",
    "valid_labels = [label for label in label2idx.keys() if label not in [\"<PAD>\", \"O\"]]\n",
    "valid_indices = [label2idx[label] for label in valid_labels]\n",
    "\n",
    "# Map indices back to labels for valid predictions and true labels\n",
    "pred_labels = [idx2label[pred] for pred in predictions]\n",
    "true_labels = [idx2label[true] for true in true_labels]"
   ]
  },
  {
   "cell_type": "code",
   "execution_count": 119,
   "metadata": {},
   "outputs": [
    {
     "name": "stdout",
     "output_type": "stream",
     "text": [
      "Classification Report:\n",
      "              precision    recall  f1-score   support\n",
      "\n",
      "           B       0.90      0.86      0.88      1300\n",
      "           I       0.90      0.89      0.90      1334\n",
      "\n",
      "   micro avg       0.90      0.88      0.89      2634\n",
      "   macro avg       0.90      0.88      0.89      2634\n",
      "weighted avg       0.90      0.88      0.89      2634\n",
      "\n"
     ]
    }
   ],
   "source": [
    "# Generate the classification report\n",
    "print(\"Classification Report:\")\n",
    "print(classification_report(true_labels, pred_labels, labels=valid_labels, zero_division=0))"
   ]
  },
  {
   "cell_type": "code",
   "execution_count": 120,
   "metadata": {},
   "outputs": [
    {
     "data": {
      "image/png": "[encoded data removed]",
      "text/plain": [
       "<Figure size 1200x800 with 2 Axes>"
      ]
     },
     "metadata": {},
     "output_type": "display_data"
    }
   ],
   "source": [
    "# Generate the confusion matrix\n",
    "cm = confusion_matrix(true_labels, pred_labels, labels=valid_labels)\n",
    "\n",
    "# Plot the confusion matrix\n",
    "plt.figure(figsize=(12, 8))\n",
    "sns.heatmap(cm, annot=True, fmt='d', cmap='Blues', xticklabels=valid_labels, yticklabels=valid_labels)\n",
    "plt.xlabel(\"Predicted\")\n",
    "plt.ylabel(\"True\")\n",
    "plt.title(\"Confusion Matrix\")\n",
    "plt.show()"
   ]
  },
  {
   "cell_type": "code",
   "execution_count": 89,
   "metadata": {},
   "outputs": [],
   "source": [
    "def infer(model, sentence, token2idx, idx2label, max_len):\n",
    "    \"\"\"\n",
    "    Predict NER tags for a single sentence.\n",
    "\n",
    "    Parameters:\n",
    "    - model: Trained BiLSTM model\n",
    "    - sentence: List of tokens (words) in the sentence\n",
    "    - token2idx: Dictionary mapping tokens to indices\n",
    "    - idx2label: Dictionary mapping indices to labels\n",
    "    - max_len: Maximum sequence length\n",
    "\n",
    "    Returns:\n",
    "    - List of (token, predicted_label) tuples\n",
    "    \"\"\"\n",
    "    model.eval()\n",
    "    with torch.no_grad():\n",
    "        # Encode the sentence\n",
    "        token_ids = [token2idx.get(token, token2idx[\"<UNK>\"]) for token in sentence]\n",
    "        token_ids = token_ids[:max_len] + [token2idx[\"<PAD>\"]] * (max_len - len(token_ids))\n",
    "        \n",
    "        # Convert to tensor and add batch dimension\n",
    "        input_tensor = torch.tensor([token_ids], dtype=torch.long)\n",
    "        \n",
    "        # Make predictions\n",
    "        outputs = model(input_tensor)\n",
    "        predictions = outputs.argmax(dim=2).squeeze(0)\n",
    "        \n",
    "        # Map predictions back to labels\n",
    "        predicted_labels = [idx2label[pred.item()] for pred in predictions[:len(sentence)]]\n",
    "        \n",
    "        return list(zip(sentence, predicted_labels))\n"
   ]
  },
  {
   "cell_type": "code",
   "execution_count": 121,
   "metadata": {},
   "outputs": [],
   "source": [
    "text = \"NLP powers many applications that use language, such as text translation, voice recognition, text summarization, and chatbots.\""
   ]
  },
  {
   "cell_type": "code",
   "execution_count": 124,
   "metadata": {},
   "outputs": [
    {
     "name": "stdout",
     "output_type": "stream",
     "text": [
      "Predictions:\n",
      "('NLP', 'B')\n",
      "('powers', 'O')\n",
      "('many', 'O')\n",
      "('applications', 'O')\n",
      "('that', 'O')\n",
      "('use', 'O')\n",
      "('language', 'B')\n",
      "(',', 'O')\n",
      "('such', 'O')\n",
      "('as', 'O')\n",
      "('text', 'B')\n",
      "('translation', 'I')\n",
      "(',', 'O')\n",
      "('voice', 'O')\n",
      "('recognition', 'B')\n",
      "(',', 'O')\n",
      "('text', 'B')\n",
      "('summarization', 'I')\n",
      "(',', 'O')\n",
      "('and', 'O')\n",
      "('chatbots', 'B')\n",
      "('.', 'I')\n"
     ]
    }
   ],
   "source": [
    "# Example usage\n",
    "unseen_sentence = word_tokenize(text)\n",
    "predictions = infer(model, unseen_sentence, token2idx, idx2label, max_len)\n",
    "\n",
    "# Print predictions\n",
    "print(\"Predictions:\")\n",
    "for token, label in predictions:\n",
    "    # print(f\"{token}: {label}\")\n",
    "    print(tuple((token, label)))"
   ]
  },
  {
   "cell_type": "code",
   "execution_count": 125,
   "metadata": {},
   "outputs": [],
   "source": [
    "text = \"NLP models are computational systems that can process natural language data, such as text or speech, and perform various tasks, such as translation, summarization, sentiment analysis, etc. NLP models are usually based on machine learning or deep learning techniques that learn from large amounts of language data.\""
   ]
  },
  {
   "cell_type": "code",
   "execution_count": 126,
   "metadata": {},
   "outputs": [
    {
     "name": "stdout",
     "output_type": "stream",
     "text": [
      "Predictions:\n",
      "('NLP', 'B')\n",
      "('models', 'I')\n",
      "('are', 'O')\n",
      "('computational', 'O')\n",
      "('systems', 'O')\n",
      "('that', 'O')\n",
      "('can', 'O')\n",
      "('process', 'O')\n",
      "('natural', 'B')\n",
      "('language', 'I')\n",
      "('data', 'I')\n",
      "(',', 'O')\n",
      "('such', 'O')\n",
      "('as', 'O')\n",
      "('text', 'O')\n",
      "('or', 'O')\n",
      "('speech', 'O')\n",
      "(',', 'O')\n",
      "('and', 'O')\n",
      "('perform', 'O')\n",
      "('various', 'O')\n",
      "('tasks', 'O')\n",
      "(',', 'O')\n",
      "('such', 'O')\n",
      "('as', 'O')\n",
      "('translation', 'B')\n",
      "(',', 'O')\n",
      "('summarization', 'O')\n",
      "(',', 'O')\n",
      "('sentiment', 'O')\n",
      "('analysis', 'O')\n",
      "(',', 'O')\n",
      "('etc', 'B')\n",
      "('.', 'O')\n",
      "('NLP', 'B')\n",
      "('models', 'I')\n",
      "('are', 'O')\n",
      "('usually', 'O')\n",
      "('based', 'O')\n",
      "('on', 'O')\n",
      "('machine', 'B')\n",
      "('learning', 'I')\n",
      "('or', 'O')\n",
      "('deep', 'B')\n",
      "('learning', 'I')\n",
      "('techniques', 'I')\n",
      "('that', 'O')\n",
      "('learn', 'O')\n",
      "('from', 'O')\n",
      "('large', 'O')\n"
     ]
    }
   ],
   "source": [
    "# Example usage\n",
    "unseen_sentence = word_tokenize(text)\n",
    "predictions = infer(model, unseen_sentence, token2idx, idx2label, max_len)\n",
    "\n",
    "# Print predictions\n",
    "print(\"Predictions:\")\n",
    "for token, label in predictions:\n",
    "    # print(f\"{token}: {label}\")\n",
    "    print(tuple((token, label)))"
   ]
  }
 ],
 "metadata": {
  "kernelspec": {
   "display_name": "base",
   "language": "python",
   "name": "python3"
  },
  "language_info": {
   "codemirror_mode": {
    "name": "ipython",
    "version": 3
   },
   "file_extension": ".py",
   "mimetype": "text/x-python",
   "name": "python",
   "nbconvert_exporter": "python",
   "pygments_lexer": "ipython3",
   "version": "3.11.5"
  }
 },
 "nbformat": 4,
 "nbformat_minor": 2
}
